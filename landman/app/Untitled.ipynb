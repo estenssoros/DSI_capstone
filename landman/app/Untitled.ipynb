{
 "cells": [
  {
   "cell_type": "code",
   "execution_count": 4,
   "metadata": {
    "collapsed": true
   },
   "outputs": [],
   "source": [
    "def fix_text(d):\n",
    "    d = str(d)\n",
    "    if len(d)==1:\n",
    "        d = '0{0}'.format(d)\n",
    "    return d"
   ]
  },
  {
   "cell_type": "code",
   "execution_count": 6,
   "metadata": {
    "collapsed": false
   },
   "outputs": [
    {
     "name": "stdout",
     "output_type": "stream",
     "text": [
      "<option value=\"01\">01</option>\n",
      "<option value=\"02\">02</option>\n",
      "<option value=\"03\">03</option>\n",
      "<option value=\"04\">04</option>\n",
      "<option value=\"05\">05</option>\n",
      "<option value=\"06\">06</option>\n",
      "<option value=\"07\">07</option>\n",
      "<option value=\"08\">08</option>\n",
      "<option value=\"09\">09</option>\n",
      "<option value=\"10\">10</option>\n",
      "<option value=\"11\">11</option>\n",
      "<option value=\"12\">12</option>\n",
      "<option value=\"13\">13</option>\n",
      "<option value=\"14\">14</option>\n",
      "<option value=\"15\">15</option>\n",
      "<option value=\"16\">16</option>\n",
      "<option value=\"17\">17</option>\n",
      "<option value=\"18\">18</option>\n",
      "<option value=\"19\">19</option>\n",
      "<option value=\"20\">20</option>\n",
      "<option value=\"21\">21</option>\n",
      "<option value=\"22\">22</option>\n",
      "<option value=\"23\">23</option>\n",
      "<option value=\"24\">24</option>\n",
      "<option value=\"25\">25</option>\n",
      "<option value=\"26\">26</option>\n",
      "<option value=\"27\">27</option>\n",
      "<option value=\"28\">28</option>\n",
      "<option value=\"29\">29</option>\n",
      "<option value=\"30\">30</option>\n",
      "<option value=\"31\">31</option>\n",
      "<option value=\"32\">32</option>\n",
      "<option value=\"33\">33</option>\n",
      "<option value=\"34\">34</option>\n",
      "<option value=\"35\">35</option>\n",
      "<option value=\"36\">36</option>\n"
     ]
    }
   ],
   "source": [
    "for i in range(1,37):\n",
    "    print '<option value=\"{0}\">{0}</option>'.format(fix_text(i))"
   ]
  },
  {
   "cell_type": "code",
   "execution_count": null,
   "metadata": {
    "collapsed": true
   },
   "outputs": [],
   "source": []
  }
 ],
 "metadata": {
  "anaconda-cloud": {},
  "kernelspec": {
   "display_name": "Python [Root]",
   "language": "python",
   "name": "Python [Root]"
  },
  "language_info": {
   "codemirror_mode": {
    "name": "ipython",
    "version": 2
   },
   "file_extension": ".py",
   "mimetype": "text/x-python",
   "name": "python",
   "nbconvert_exporter": "python",
   "pygments_lexer": "ipython2",
   "version": "2.7.12"
  }
 },
 "nbformat": 4,
 "nbformat_minor": 0
}
