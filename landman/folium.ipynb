{
 "cells": [
  {
   "cell_type": "code",
   "execution_count": 1,
   "metadata": {
    "collapsed": true
   },
   "outputs": [],
   "source": [
    "import pandas as pd\n",
    "import folium"
   ]
  },
  {
   "cell_type": "code",
   "execution_count": 29,
   "metadata": {
    "collapsed": false
   },
   "outputs": [],
   "source": [
    "def fix_section(d):\n",
    "    d = str(d)\n",
    "    if len(d)==1:\n",
    "        return '0{0}'.format(d)\n",
    "    else:\n",
    "        return str(d)\n",
    "df['section']=df.apply(lambda x: fix_section(x['section']),axis=1)\n",
    "df.to_csv('data/clean_weld_docs.csv',index=False)"
   ]
  },
  {
   "cell_type": "code",
   "execution_count": 34,
   "metadata": {
    "collapsed": false,
    "scrolled": true
   },
   "outputs": [
    {
     "data": {
      "text/plain": [
       "{'01',\n",
       " '02',\n",
       " '03',\n",
       " '04',\n",
       " '05',\n",
       " '06',\n",
       " '07',\n",
       " '08',\n",
       " '09',\n",
       " '1,12',\n",
       " '1,2',\n",
       " '1,31',\n",
       " '10',\n",
       " '10,11',\n",
       " '11',\n",
       " '11,10',\n",
       " '11,12',\n",
       " '11,14',\n",
       " '11121314',\n",
       " '12',\n",
       " '12,13',\n",
       " '12,33',\n",
       " '13',\n",
       " '13,24',\n",
       " '14',\n",
       " '14,14',\n",
       " '15',\n",
       " '16',\n",
       " '1617',\n",
       " '17',\n",
       " '17,20',\n",
       " '17,21',\n",
       " '18',\n",
       " '18,19',\n",
       " '1819',\n",
       " '19',\n",
       " '19,30',\n",
       " '19,30,24,25',\n",
       " '2,2',\n",
       " '20',\n",
       " '21',\n",
       " '21,22',\n",
       " '22',\n",
       " '22,10',\n",
       " '23',\n",
       " '24',\n",
       " '24,26,35',\n",
       " '25',\n",
       " '25,26',\n",
       " '25,35',\n",
       " '2526',\n",
       " '26',\n",
       " '26,28 SE4',\n",
       " '27',\n",
       " '28',\n",
       " '28,33',\n",
       " '29',\n",
       " '29,32',\n",
       " '30',\n",
       " '30,32',\n",
       " '31',\n",
       " '31,32',\n",
       " '32',\n",
       " '33',\n",
       " '3334',\n",
       " '34',\n",
       " '34,35',\n",
       " '35',\n",
       " '36',\n",
       " '4,18',\n",
       " '4,9',\n",
       " '5,6',\n",
       " '56',\n",
       " '7,22',\n",
       " '8,8',\n",
       " '8,9',\n",
       " '9,10',\n",
       " '9,12',\n",
       " '9,18',\n",
       " 'S8'}"
      ]
     },
     "execution_count": 34,
     "metadata": {},
     "output_type": "execute_result"
    }
   ],
   "source": [
    "df = pd.read_csv('data/clean_weld_docs.csv')\n",
    "df.head()\n",
    "data = df.groupby(['range','township','section']).size().reset_index().rename(columns={0:'count'})\n",
    "data.head()\n",
    "set(data['section'])\n",
    "# data['TRS']=data['township'] + data['range'] + df['section']\n",
    "\n",
    "# df = pd.read_csv('data/PLSS_Sections.csv',dtype=object)\n",
    "# df['TRS']=df['township'] + df['range'] + df['section'].astype(str)\n",
    "\n",
    "# data_df = pd.merge(df[['TRS']],data[['TRS','count']],how='left',on='TRS').fillna(0)\n",
    "# data_df['count']=data_df['count'].astype(int)\n",
    "# data_df"
   ]
  },
  {
   "cell_type": "code",
   "execution_count": 17,
   "metadata": {
    "collapsed": false
   },
   "outputs": [
    {
     "name": "stderr",
     "output_type": "stream",
     "text": [
      "/Users/sebastianestenssoro/anaconda/lib/python2.7/site-packages/ipykernel/__main__.py:12: FutureWarning: 'threshold_scale' default behavior has changed. Now you get a linear scale between the 'min' and the 'max' of your data. To get former behavior, use folium.utilities.split_six.\n"
     ]
    },
    {
     "ename": "KeyError",
     "evalue": "u'01N61W01'",
     "output_type": "error",
     "traceback": [
      "\u001b[0;31m---------------------------------------------------------------------------\u001b[0m",
      "\u001b[0;31mKeyError\u001b[0m                                  Traceback (most recent call last)",
      "\u001b[0;32m/Users/sebastianestenssoro/anaconda/lib/python2.7/site-packages/IPython/core/formatters.pyc\u001b[0m in \u001b[0;36m__call__\u001b[0;34m(self, obj)\u001b[0m\n\u001b[1;32m    341\u001b[0m             \u001b[0mmethod\u001b[0m \u001b[0;34m=\u001b[0m \u001b[0m_safe_get_formatter_method\u001b[0m\u001b[0;34m(\u001b[0m\u001b[0mobj\u001b[0m\u001b[0;34m,\u001b[0m \u001b[0mself\u001b[0m\u001b[0;34m.\u001b[0m\u001b[0mprint_method\u001b[0m\u001b[0;34m)\u001b[0m\u001b[0;34m\u001b[0m\u001b[0m\n\u001b[1;32m    342\u001b[0m             \u001b[0;32mif\u001b[0m \u001b[0mmethod\u001b[0m \u001b[0;32mis\u001b[0m \u001b[0;32mnot\u001b[0m \u001b[0mNone\u001b[0m\u001b[0;34m:\u001b[0m\u001b[0;34m\u001b[0m\u001b[0m\n\u001b[0;32m--> 343\u001b[0;31m                 \u001b[0;32mreturn\u001b[0m \u001b[0mmethod\u001b[0m\u001b[0;34m(\u001b[0m\u001b[0;34m)\u001b[0m\u001b[0;34m\u001b[0m\u001b[0m\n\u001b[0m\u001b[1;32m    344\u001b[0m             \u001b[0;32mreturn\u001b[0m \u001b[0mNone\u001b[0m\u001b[0;34m\u001b[0m\u001b[0m\n\u001b[1;32m    345\u001b[0m         \u001b[0;32melse\u001b[0m\u001b[0;34m:\u001b[0m\u001b[0;34m\u001b[0m\u001b[0m\n",
      "\u001b[0;32m/Users/sebastianestenssoro/anaconda/lib/python2.7/site-packages/folium/map.pyc\u001b[0m in \u001b[0;36m_repr_html_\u001b[0;34m(self, **kwargs)\u001b[0m\n\u001b[1;32m    177\u001b[0m             \u001b[0mself\u001b[0m\u001b[0;34m.\u001b[0m\u001b[0m_parent\u001b[0m \u001b[0;34m=\u001b[0m \u001b[0mNone\u001b[0m\u001b[0;34m\u001b[0m\u001b[0m\n\u001b[1;32m    178\u001b[0m         \u001b[0;32melse\u001b[0m\u001b[0;34m:\u001b[0m\u001b[0;34m\u001b[0m\u001b[0m\n\u001b[0;32m--> 179\u001b[0;31m             \u001b[0mout\u001b[0m \u001b[0;34m=\u001b[0m \u001b[0mself\u001b[0m\u001b[0;34m.\u001b[0m\u001b[0m_parent\u001b[0m\u001b[0;34m.\u001b[0m\u001b[0m_repr_html_\u001b[0m\u001b[0;34m(\u001b[0m\u001b[0;34m**\u001b[0m\u001b[0mkwargs\u001b[0m\u001b[0;34m)\u001b[0m\u001b[0;34m\u001b[0m\u001b[0m\n\u001b[0m\u001b[1;32m    180\u001b[0m         \u001b[0;32mreturn\u001b[0m \u001b[0mout\u001b[0m\u001b[0;34m\u001b[0m\u001b[0m\n\u001b[1;32m    181\u001b[0m \u001b[0;34m\u001b[0m\u001b[0m\n",
      "\u001b[0;32m/Users/sebastianestenssoro/anaconda/lib/python2.7/site-packages/folium/element.pyc\u001b[0m in \u001b[0;36m_repr_html_\u001b[0;34m(self, **kwargs)\u001b[0m\n\u001b[1;32m    367\u001b[0m \u001b[0;34m\u001b[0m\u001b[0m\n\u001b[1;32m    368\u001b[0m         \"\"\"\n\u001b[0;32m--> 369\u001b[0;31m         \u001b[0mhtml\u001b[0m \u001b[0;34m=\u001b[0m \u001b[0mself\u001b[0m\u001b[0;34m.\u001b[0m\u001b[0mrender\u001b[0m\u001b[0;34m(\u001b[0m\u001b[0;34m**\u001b[0m\u001b[0mkwargs\u001b[0m\u001b[0;34m)\u001b[0m\u001b[0;34m\u001b[0m\u001b[0m\n\u001b[0m\u001b[1;32m    370\u001b[0m         \u001b[0mhtml\u001b[0m \u001b[0;34m=\u001b[0m \u001b[0;34m\"data:text/html;base64,\"\u001b[0m \u001b[0;34m+\u001b[0m \u001b[0mbase64\u001b[0m\u001b[0;34m.\u001b[0m\u001b[0mb64encode\u001b[0m\u001b[0;34m(\u001b[0m\u001b[0mhtml\u001b[0m\u001b[0;34m.\u001b[0m\u001b[0mencode\u001b[0m\u001b[0;34m(\u001b[0m\u001b[0;34m'utf8'\u001b[0m\u001b[0;34m)\u001b[0m\u001b[0;34m)\u001b[0m\u001b[0;34m.\u001b[0m\u001b[0mdecode\u001b[0m\u001b[0;34m(\u001b[0m\u001b[0;34m'utf8'\u001b[0m\u001b[0;34m)\u001b[0m  \u001b[0;31m# noqa\u001b[0m\u001b[0;34m\u001b[0m\u001b[0m\n\u001b[1;32m    371\u001b[0m \u001b[0;34m\u001b[0m\u001b[0m\n",
      "\u001b[0;32m/Users/sebastianestenssoro/anaconda/lib/python2.7/site-packages/folium/element.pyc\u001b[0m in \u001b[0;36mrender\u001b[0;34m(self, **kwargs)\u001b[0m\n\u001b[1;32m    357\u001b[0m         \u001b[0;34m\"\"\"Renders the HTML representation of the element.\"\"\"\u001b[0m\u001b[0;34m\u001b[0m\u001b[0m\n\u001b[1;32m    358\u001b[0m         \u001b[0;32mfor\u001b[0m \u001b[0mname\u001b[0m\u001b[0;34m,\u001b[0m \u001b[0mchild\u001b[0m \u001b[0;32min\u001b[0m \u001b[0mself\u001b[0m\u001b[0;34m.\u001b[0m\u001b[0m_children\u001b[0m\u001b[0;34m.\u001b[0m\u001b[0mitems\u001b[0m\u001b[0;34m(\u001b[0m\u001b[0;34m)\u001b[0m\u001b[0;34m:\u001b[0m\u001b[0;34m\u001b[0m\u001b[0m\n\u001b[0;32m--> 359\u001b[0;31m             \u001b[0mchild\u001b[0m\u001b[0;34m.\u001b[0m\u001b[0mrender\u001b[0m\u001b[0;34m(\u001b[0m\u001b[0;34m**\u001b[0m\u001b[0mkwargs\u001b[0m\u001b[0;34m)\u001b[0m\u001b[0;34m\u001b[0m\u001b[0m\n\u001b[0m\u001b[1;32m    360\u001b[0m         \u001b[0;32mreturn\u001b[0m \u001b[0mself\u001b[0m\u001b[0;34m.\u001b[0m\u001b[0m_template\u001b[0m\u001b[0;34m.\u001b[0m\u001b[0mrender\u001b[0m\u001b[0;34m(\u001b[0m\u001b[0mthis\u001b[0m\u001b[0;34m=\u001b[0m\u001b[0mself\u001b[0m\u001b[0;34m,\u001b[0m \u001b[0mkwargs\u001b[0m\u001b[0;34m=\u001b[0m\u001b[0mkwargs\u001b[0m\u001b[0;34m)\u001b[0m\u001b[0;34m\u001b[0m\u001b[0m\n\u001b[1;32m    361\u001b[0m \u001b[0;34m\u001b[0m\u001b[0m\n",
      "\u001b[0;32m/Users/sebastianestenssoro/anaconda/lib/python2.7/site-packages/folium/element.pyc\u001b[0m in \u001b[0;36mrender\u001b[0;34m(self, **kwargs)\u001b[0m\n\u001b[1;32m    665\u001b[0m \u001b[0;34m\u001b[0m\u001b[0m\n\u001b[1;32m    666\u001b[0m         \u001b[0;32mfor\u001b[0m \u001b[0mname\u001b[0m\u001b[0;34m,\u001b[0m \u001b[0melement\u001b[0m \u001b[0;32min\u001b[0m \u001b[0mself\u001b[0m\u001b[0;34m.\u001b[0m\u001b[0m_children\u001b[0m\u001b[0;34m.\u001b[0m\u001b[0mitems\u001b[0m\u001b[0;34m(\u001b[0m\u001b[0;34m)\u001b[0m\u001b[0;34m:\u001b[0m\u001b[0;34m\u001b[0m\u001b[0m\n\u001b[0;32m--> 667\u001b[0;31m             \u001b[0melement\u001b[0m\u001b[0;34m.\u001b[0m\u001b[0mrender\u001b[0m\u001b[0;34m(\u001b[0m\u001b[0;34m**\u001b[0m\u001b[0mkwargs\u001b[0m\u001b[0;34m)\u001b[0m\u001b[0;34m\u001b[0m\u001b[0m\n\u001b[0m",
      "\u001b[0;32m/Users/sebastianestenssoro/anaconda/lib/python2.7/site-packages/folium/element.pyc\u001b[0m in \u001b[0;36mrender\u001b[0;34m(self, **kwargs)\u001b[0m\n\u001b[1;32m    661\u001b[0m         \u001b[0mscript\u001b[0m \u001b[0;34m=\u001b[0m \u001b[0mself\u001b[0m\u001b[0;34m.\u001b[0m\u001b[0m_template\u001b[0m\u001b[0;34m.\u001b[0m\u001b[0mmodule\u001b[0m\u001b[0;34m.\u001b[0m\u001b[0m__dict__\u001b[0m\u001b[0;34m.\u001b[0m\u001b[0mget\u001b[0m\u001b[0;34m(\u001b[0m\u001b[0;34m'script'\u001b[0m\u001b[0;34m,\u001b[0m \u001b[0mNone\u001b[0m\u001b[0;34m)\u001b[0m\u001b[0;34m\u001b[0m\u001b[0m\n\u001b[1;32m    662\u001b[0m         \u001b[0;32mif\u001b[0m \u001b[0mscript\u001b[0m \u001b[0;32mis\u001b[0m \u001b[0;32mnot\u001b[0m \u001b[0mNone\u001b[0m\u001b[0;34m:\u001b[0m\u001b[0;34m\u001b[0m\u001b[0m\n\u001b[0;32m--> 663\u001b[0;31m             figure.script.add_children(Element(script(self, kwargs)),\n\u001b[0m\u001b[1;32m    664\u001b[0m                                        name=self.get_name())\n\u001b[1;32m    665\u001b[0m \u001b[0;34m\u001b[0m\u001b[0m\n",
      "\u001b[0;32m/Users/sebastianestenssoro/anaconda/lib/python2.7/site-packages/jinja2/runtime.pyc\u001b[0m in \u001b[0;36m__call__\u001b[0;34m(self, *args, **kwargs)\u001b[0m\n\u001b[1;32m    434\u001b[0m             raise TypeError('macro %r takes not more than %d argument(s)' %\n\u001b[1;32m    435\u001b[0m                             (self.name, len(self.arguments)))\n\u001b[0;32m--> 436\u001b[0;31m         \u001b[0;32mreturn\u001b[0m \u001b[0mself\u001b[0m\u001b[0;34m.\u001b[0m\u001b[0m_func\u001b[0m\u001b[0;34m(\u001b[0m\u001b[0;34m*\u001b[0m\u001b[0marguments\u001b[0m\u001b[0;34m)\u001b[0m\u001b[0;34m\u001b[0m\u001b[0m\n\u001b[0m\u001b[1;32m    437\u001b[0m \u001b[0;34m\u001b[0m\u001b[0m\n\u001b[1;32m    438\u001b[0m     \u001b[0;32mdef\u001b[0m \u001b[0m__repr__\u001b[0m\u001b[0;34m(\u001b[0m\u001b[0mself\u001b[0m\u001b[0;34m)\u001b[0m\u001b[0;34m:\u001b[0m\u001b[0;34m\u001b[0m\u001b[0m\n",
      "\u001b[0;32m<template>\u001b[0m in \u001b[0;36mmacro\u001b[0;34m(l_this, l_kwargs)\u001b[0m\n",
      "\u001b[0;32m/Users/sebastianestenssoro/anaconda/lib/python2.7/site-packages/jinja2/runtime.pyc\u001b[0m in \u001b[0;36mcall\u001b[0;34m(_Context__self, _Context__obj, *args, **kwargs)\u001b[0m\n\u001b[1;32m    194\u001b[0m                 \u001b[0margs\u001b[0m \u001b[0;34m=\u001b[0m \u001b[0;34m(\u001b[0m\u001b[0m__self\u001b[0m\u001b[0;34m.\u001b[0m\u001b[0menvironment\u001b[0m\u001b[0;34m,\u001b[0m\u001b[0;34m)\u001b[0m \u001b[0;34m+\u001b[0m \u001b[0margs\u001b[0m\u001b[0;34m\u001b[0m\u001b[0m\n\u001b[1;32m    195\u001b[0m         \u001b[0;32mtry\u001b[0m\u001b[0;34m:\u001b[0m\u001b[0;34m\u001b[0m\u001b[0m\n\u001b[0;32m--> 196\u001b[0;31m             \u001b[0;32mreturn\u001b[0m \u001b[0m__obj\u001b[0m\u001b[0;34m(\u001b[0m\u001b[0;34m*\u001b[0m\u001b[0margs\u001b[0m\u001b[0;34m,\u001b[0m \u001b[0;34m**\u001b[0m\u001b[0mkwargs\u001b[0m\u001b[0;34m)\u001b[0m\u001b[0;34m\u001b[0m\u001b[0m\n\u001b[0m\u001b[1;32m    197\u001b[0m         \u001b[0;32mexcept\u001b[0m \u001b[0mStopIteration\u001b[0m\u001b[0;34m:\u001b[0m\u001b[0;34m\u001b[0m\u001b[0m\n\u001b[1;32m    198\u001b[0m             return __self.environment.undefined('value was undefined because '\n",
      "\u001b[0;32m/Users/sebastianestenssoro/anaconda/lib/python2.7/site-packages/folium/features.pyc\u001b[0m in \u001b[0;36mstyle_data\u001b[0;34m(self)\u001b[0m\n\u001b[1;32m    352\u001b[0m \u001b[0;34m\u001b[0m\u001b[0m\n\u001b[1;32m    353\u001b[0m         \u001b[0;32mfor\u001b[0m \u001b[0mfeature\u001b[0m \u001b[0;32min\u001b[0m \u001b[0mself\u001b[0m\u001b[0;34m.\u001b[0m\u001b[0mdata\u001b[0m\u001b[0;34m[\u001b[0m\u001b[0;34m'features'\u001b[0m\u001b[0;34m]\u001b[0m\u001b[0;34m:\u001b[0m\u001b[0;34m\u001b[0m\u001b[0m\n\u001b[0;32m--> 354\u001b[0;31m             \u001b[0mfeature\u001b[0m\u001b[0;34m.\u001b[0m\u001b[0msetdefault\u001b[0m\u001b[0;34m(\u001b[0m\u001b[0;34m'properties'\u001b[0m\u001b[0;34m,\u001b[0m \u001b[0;34m{\u001b[0m\u001b[0;34m}\u001b[0m\u001b[0;34m)\u001b[0m\u001b[0;34m.\u001b[0m\u001b[0msetdefault\u001b[0m\u001b[0;34m(\u001b[0m\u001b[0;34m'style'\u001b[0m\u001b[0;34m,\u001b[0m \u001b[0;34m{\u001b[0m\u001b[0;34m}\u001b[0m\u001b[0;34m)\u001b[0m\u001b[0;34m.\u001b[0m\u001b[0mupdate\u001b[0m\u001b[0;34m(\u001b[0m\u001b[0mself\u001b[0m\u001b[0;34m.\u001b[0m\u001b[0mstyle_function\u001b[0m\u001b[0;34m(\u001b[0m\u001b[0mfeature\u001b[0m\u001b[0;34m)\u001b[0m\u001b[0;34m)\u001b[0m  \u001b[0;31m# noqa\u001b[0m\u001b[0;34m\u001b[0m\u001b[0m\n\u001b[0m\u001b[1;32m    355\u001b[0m         \u001b[0;32mreturn\u001b[0m \u001b[0mjson\u001b[0m\u001b[0;34m.\u001b[0m\u001b[0mdumps\u001b[0m\u001b[0;34m(\u001b[0m\u001b[0mself\u001b[0m\u001b[0;34m.\u001b[0m\u001b[0mdata\u001b[0m\u001b[0;34m,\u001b[0m \u001b[0msort_keys\u001b[0m\u001b[0;34m=\u001b[0m\u001b[0mTrue\u001b[0m\u001b[0;34m)\u001b[0m\u001b[0;34m\u001b[0m\u001b[0m\n\u001b[1;32m    356\u001b[0m \u001b[0;34m\u001b[0m\u001b[0m\n",
      "\u001b[0;32m/Users/sebastianestenssoro/anaconda/lib/python2.7/site-packages/folium/folium.pyc\u001b[0m in \u001b[0;36mstyle_function\u001b[0;34m(x)\u001b[0m\n\u001b[1;32m    671\u001b[0m                 \u001b[0;34m\"color\"\u001b[0m\u001b[0;34m:\u001b[0m \u001b[0mline_color\u001b[0m\u001b[0;34m,\u001b[0m\u001b[0;34m\u001b[0m\u001b[0m\n\u001b[1;32m    672\u001b[0m                 \u001b[0;34m\"fillOpacity\"\u001b[0m\u001b[0;34m:\u001b[0m \u001b[0mfill_opacity\u001b[0m\u001b[0;34m,\u001b[0m\u001b[0;34m\u001b[0m\u001b[0m\n\u001b[0;32m--> 673\u001b[0;31m                 \u001b[0;34m\"fillColor\"\u001b[0m\u001b[0;34m:\u001b[0m \u001b[0mcolor_scale_fun\u001b[0m\u001b[0;34m(\u001b[0m\u001b[0mx\u001b[0m\u001b[0;34m)\u001b[0m\u001b[0;34m\u001b[0m\u001b[0m\n\u001b[0m\u001b[1;32m    674\u001b[0m             }\n\u001b[1;32m    675\u001b[0m \u001b[0;34m\u001b[0m\u001b[0m\n",
      "\u001b[0;32m/Users/sebastianestenssoro/anaconda/lib/python2.7/site-packages/folium/folium.pyc\u001b[0m in \u001b[0;36mcolor_scale_fun\u001b[0;34m(x)\u001b[0m\n\u001b[1;32m    660\u001b[0m                 return color_range[len(\n\u001b[1;32m    661\u001b[0m                     [u for u in color_domain if\n\u001b[0;32m--> 662\u001b[0;31m                      u <= color_data[get_by_key(x, key_on)]])]\n\u001b[0m\u001b[1;32m    663\u001b[0m         \u001b[0;32melse\u001b[0m\u001b[0;34m:\u001b[0m\u001b[0;34m\u001b[0m\u001b[0m\n\u001b[1;32m    664\u001b[0m             \u001b[0;32mdef\u001b[0m \u001b[0mcolor_scale_fun\u001b[0m\u001b[0;34m(\u001b[0m\u001b[0mx\u001b[0m\u001b[0;34m)\u001b[0m\u001b[0;34m:\u001b[0m\u001b[0;34m\u001b[0m\u001b[0m\n",
      "\u001b[0;31mKeyError\u001b[0m: u'01N61W01'"
     ]
    },
    {
     "data": {
      "text/plain": [
       "<folium.folium.Map at 0x115d67550>"
      ]
     },
     "execution_count": 17,
     "metadata": {},
     "output_type": "execute_result"
    }
   ],
   "source": [
    "WELD_COORDINATES = (40.5, -104.41)\n",
    "parcel_geo = 'geojsonfiles/PLSS_Sections.json'\n",
    "\n",
    "weldmap = folium.Map(location=WELD_COORDINATES, zoom_start=9.2)\n",
    "weldmap.choropleth(geo_path=parcel_geo, \n",
    "                   data=data,\n",
    "                   data_out = 'weldagg.json',\n",
    "                   columns=['trs','count'],\n",
    "                   key_on='feature.properties.TRS',\n",
    "                   fill_color = 'YlGnBu',\n",
    "                   fill_opacity=0.2, \n",
    "                   line_opacity=0.3)\n",
    "weldmap"
   ]
  },
  {
   "cell_type": "code",
   "execution_count": null,
   "metadata": {
    "collapsed": true
   },
   "outputs": [],
   "source": []
  },
  {
   "cell_type": "code",
   "execution_count": 20,
   "metadata": {
    "collapsed": false
   },
   "outputs": [],
   "source": [
    "import json\n",
    "with open('geojsonfiles/PLSS_Sections.json') as f:\n",
    "    jdata = json.load(f)"
   ]
  },
  {
   "cell_type": "code",
   "execution_count": 21,
   "metadata": {
    "collapsed": false
   },
   "outputs": [
    {
     "data": {
      "text/plain": [
       "{u'AREA': 27940878.194,\n",
       " u'ASSRCODE': u'1481',\n",
       " u'PERIMETER': 42290.3486,\n",
       " u'RANGE': u'61W',\n",
       " u'Range2': u'61',\n",
       " u'SECTION': 1,\n",
       " u'Section2': u'1',\n",
       " u'Shape_Area': 27940878.4731,\n",
       " u'Shape_Leng': 21143.533171,\n",
       " u'TOWNRANGE': u'01N61W',\n",
       " u'TOWNSHIP': u'01N',\n",
       " u'TRS': u'01N61W01',\n",
       " u'TRS2': u'1 1 61',\n",
       " u'Township2': u'1'}"
      ]
     },
     "execution_count": 21,
     "metadata": {},
     "output_type": "execute_result"
    }
   ],
   "source": [
    "jdata['features'][0]['properties']"
   ]
  },
  {
   "cell_type": "code",
   "execution_count": 52,
   "metadata": {
    "collapsed": false
   },
   "outputs": [
    {
     "data": {
      "text/plain": [
       "array(['02', '11', '04', '27', '17', '18', '24', '08', '32', '26', '34',\n",
       "       '30', '29', '14', '33', '28', '06', '19', '20', '01', nan, '10',\n",
       "       '15', '30,32', '22', '21', '07', '36', '25', '11,14', '31', '09',\n",
       "       '03', '35', '11,12,13,14', '16', '23', '12', '26,28', '05', '13',\n",
       "       '4,18', '16,17', '56', '1,31', '1,12', '25,26', '12,33', '13,24',\n",
       "       '21,22', '14,14', '18,19', '17,21', '17,20', '7,22', '22,10',\n",
       "       '25,35', '9,10', '4,9', '8,9', '33,34', '1819', '28,33', '29,32',\n",
       "       '9,12', '19,30,24,25', '10,11', '11,10', '19,30', '12,13', '11,12',\n",
       "       '9,18', '34,35', '24,26,35', '31,32', '5,6', '1,2'], dtype=object)"
      ]
     },
     "execution_count": 52,
     "metadata": {},
     "output_type": "execute_result"
    }
   ],
   "source": [
    "df = pd.read_csv('data/clean_weld_docs.csv')\n",
    "df.loc[df['section']=='11121314','section']= '11,12,13,14'\n",
    "df.loc[df['section']=='26,28 SE4','section']='26,28'\n",
    "df.loc[df['section']=='2,2','section']='02'\n",
    "df.loc[df['section']=='8,8','section']='08'\n",
    "df.loc[df['section']=='S8','section']='08'\n",
    "df.loc[df['section']=='126','section']='12'\n",
    "df.loc[df['section']=='3334','section']='33,34'\n",
    "df.loc[df['section']=='2526','section']='25,26'\n",
    "df.loc[df['section']=='1617','section']='16,17'\n",
    "\n",
    "pd.unique(df['section'])"
   ]
  },
  {
   "cell_type": "code",
   "execution_count": 46,
   "metadata": {
    "collapsed": false
   },
   "outputs": [
    {
     "data": {
      "text/html": [
       "<div>\n",
       "<table border=\"1\" class=\"dataframe\">\n",
       "  <thead>\n",
       "    <tr style=\"text-align: right;\">\n",
       "      <th></th>\n",
       "      <th>start_date</th>\n",
       "      <th>end_date</th>\n",
       "      <th>doc_num</th>\n",
       "      <th>doc_type</th>\n",
       "      <th>href</th>\n",
       "      <th>text</th>\n",
       "      <th>rec_date</th>\n",
       "      <th>section</th>\n",
       "      <th>grantee</th>\n",
       "      <th>page_num</th>\n",
       "      <th>grantor</th>\n",
       "      <th>range</th>\n",
       "      <th>township</th>\n",
       "      <th>new_doc_num</th>\n",
       "      <th>quarter</th>\n",
       "    </tr>\n",
       "  </thead>\n",
       "  <tbody>\n",
       "    <tr>\n",
       "      <th>4106</th>\n",
       "      <td>2008-10-01</td>\n",
       "      <td>2008-10-02</td>\n",
       "      <td>DOCC3581843</td>\n",
       "      <td>OIL &amp; GAS LEASE</td>\n",
       "      <td>../eagleweb/viewDoc.jsp?node=DOCC3581843</td>\n",
       "      <td>Rec. Date: 10/02/2008 02:14:00 PM Book Page: ...</td>\n",
       "      <td>10/02/2008 02:14:00 PM</td>\n",
       "      <td>126</td>\n",
       "      <td>NaN</td>\n",
       "      <td>7</td>\n",
       "      <td>NaN</td>\n",
       "      <td>63W</td>\n",
       "      <td>NaN</td>\n",
       "      <td>DOCC3581843</td>\n",
       "      <td>E2NE4</td>\n",
       "    </tr>\n",
       "  </tbody>\n",
       "</table>\n",
       "</div>"
      ],
      "text/plain": [
       "      start_date    end_date      doc_num         doc_type  \\\n",
       "4106  2008-10-01  2008-10-02  DOCC3581843  OIL & GAS LEASE   \n",
       "\n",
       "                                          href  \\\n",
       "4106  ../eagleweb/viewDoc.jsp?node=DOCC3581843   \n",
       "\n",
       "                                                   text  \\\n",
       "4106   Rec. Date: 10/02/2008 02:14:00 PM Book Page: ...   \n",
       "\n",
       "                    rec_date section  grantee  page_num grantor range  \\\n",
       "4106  10/02/2008 02:14:00 PM     126      NaN         7     NaN   63W   \n",
       "\n",
       "     township  new_doc_num quarter  \n",
       "4106      NaN  DOCC3581843   E2NE4  "
      ]
     },
     "execution_count": 46,
     "metadata": {},
     "output_type": "execute_result"
    }
   ],
   "source": [
    "new = pd.DataFrame()\n",
    "for i,r in df.iterrows():\n",
    "    "
   ]
  },
  {
   "cell_type": "code",
   "execution_count": null,
   "metadata": {
    "collapsed": true
   },
   "outputs": [],
   "source": []
  }
 ],
 "metadata": {
  "kernelspec": {
   "display_name": "Python [Root]",
   "language": "python",
   "name": "Python [Root]"
  },
  "language_info": {
   "codemirror_mode": {
    "name": "ipython",
    "version": 2
   },
   "file_extension": ".py",
   "mimetype": "text/x-python",
   "name": "python",
   "nbconvert_exporter": "python",
   "pygments_lexer": "ipython2",
   "version": "2.7.12"
  }
 },
 "nbformat": 4,
 "nbformat_minor": 0
}
